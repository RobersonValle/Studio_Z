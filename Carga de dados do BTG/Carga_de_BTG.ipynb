{
 "cells": [
  {
   "cell_type": "code",
   "execution_count": 1,
   "id": "a7b32393",
   "metadata": {},
   "outputs": [],
   "source": [
    "import pandas as pd\n",
    "import requests\n",
    "import json\n",
    "from tqdm import tqdm\n",
    "import pyodbc\n",
    "import datetime as dt\n",
    "import re\n",
    "import gc"
   ]
  },
  {
   "cell_type": "code",
   "execution_count": 2,
   "id": "e6d0e3b5",
   "metadata": {},
   "outputs": [],
   "source": [
    "df_id_campanhas = pd.read_csv(r'Q:\\\\Drives compartilhados\\\\CRM - STZ\\\\CRM\\\\_Carga de Arquivos\\\\Querys\\\\ID Campanhas BTG.csv', sep=';')\n",
    "\n",
    "with open(r'C:\\Users\\roberson.valle\\Meu Drive\\Github\\API_ALLIN.json') as arquivo:\n",
    "    payload = json.load(arquivo)"
   ]
  },
  {
   "cell_type": "code",
   "execution_count": 3,
   "id": "6f7748eb",
   "metadata": {},
   "outputs": [],
   "source": [
    "url_post = \"http://transacional-apiv2.allin.com.br/oauth/token\"\n",
    "\n",
    "response_post = requests.post(url_post, data=payload)"
   ]
  },
  {
   "cell_type": "code",
   "execution_count": 4,
   "id": "132e125d",
   "metadata": {},
   "outputs": [
    {
     "name": "stderr",
     "output_type": "stream",
     "text": [
      "100%|██████████| 58/58 [02:13<00:00,  2.31s/it]\n"
     ]
    }
   ],
   "source": [
    "url_get = \"http://transacional-apiv2.allin.com.br/api/report/?dt_envio=\"\n",
    "data_get = '2022-03-16'\n",
    "page = '1'\n",
    "json_get = []\n",
    "headers = {\n",
    "  'Authorization': f'Bearer {response_post.json()[\"access_token\"]}'\n",
    "}\n",
    "\n",
    "qtd_paginas = requests.get((f'{url_get}{data_get}&page={page}'), headers=headers).json()['last_page']\n",
    "#qtd_paginas = 1\n",
    "for i in tqdm(range(qtd_paginas)):\n",
    "    response_get = requests.get((f'{url_get}{data_get}&page={(i+1)}'), headers=headers).json()\n",
    "    json_get.append(response_get)"
   ]
  },
  {
   "cell_type": "code",
   "execution_count": 5,
   "id": "e505387b",
   "metadata": {},
   "outputs": [],
   "source": [
    "df = pd.DataFrame(json_get[0]['data'])\n",
    "\n",
    "for i in range((qtd_paginas-1)):\n",
    "    df_aux = pd.DataFrame(json_get[i+1]['data'])\n",
    "    df = pd.concat([df, df_aux], ignore_index=True)\n",
    "\n",
    "df = df.query('fl_envio==True and dt_enviado!=None')"
   ]
  },
  {
   "cell_type": "code",
   "execution_count": 6,
   "id": "8a0a1798",
   "metadata": {},
   "outputs": [],
   "source": [
    "df_completo = pd.merge(df,df_id_campanhas,left_on='nm_envio',right_on='nome_regra',how='left')\n",
    "df_completo = df_completo[df_completo['dt_abertura'].notnull()]"
   ]
  },
  {
   "cell_type": "code",
   "execution_count": 7,
   "id": "a41acf08",
   "metadata": {},
   "outputs": [],
   "source": [
    "server = 'PASSODETORRES' \n",
    "database = 'CRM_DATALAKE' \n",
    "conexao = pyodbc.connect('DRIVER={SQL Server};SERVER='+server+';DATABASE='+database)\n",
    "cursor = conexao.cursor()"
   ]
  },
  {
   "cell_type": "code",
   "execution_count": 8,
   "id": "b292b3d6",
   "metadata": {},
   "outputs": [
    {
     "name": "stderr",
     "output_type": "stream",
     "text": [
      "4360it [00:39, 109.50it/s]"
     ]
    },
    {
     "name": "stdout",
     "output_type": "stream",
     "text": [
      "Total de linhas: 4360\n",
      "Linhas com erros: 0\n",
      "COMMIT\n"
     ]
    },
    {
     "name": "stderr",
     "output_type": "stream",
     "text": [
      "\n"
     ]
    }
   ],
   "source": [
    "linhas_com_erro = 0\n",
    "\n",
    "try:\n",
    "    for index, row in tqdm(df_completo.iterrows()):\n",
    "        try:\n",
    "            cursor.execute(f\"\"\"\n",
    "            INSERT INTO [CRM_DATALAKE].[CRM].[ABERTOS_STZ]\n",
    "                ([EMAIL]\n",
    "                ,[ID_CAMPANHA]\n",
    "                ,[DATA_ENVIO]\n",
    "                ,[DATA_ABERTURA]\n",
    "                ,[DATA_ATUALIZACAO]\n",
    "                ,[TIPO_COMUNICACAO])\n",
    "            VALUES(\n",
    "                CASE WHEN '{row.nm_email}' = 'nan' THEN NULL ELSE '{row.nm_email}' END\n",
    "                ,'{str(pd.to_datetime(row.dt_enviado, errors='ignore')).replace('-','')[:8]}BTG{str(int(row.campaign_id)).rjust(2,'0')}'\n",
    "                ,cast('{str(pd.to_datetime(row.dt_enviado))}' as date)\n",
    "                ,CASE WHEN '{str(pd.to_datetime(row.dt_abertura))}' = 'none' THEN NULL ELSE CAST('{str(pd.to_datetime(row.dt_abertura))}' as date) END\n",
    "                ,GETDATE()\n",
    "                ,'BTG')\n",
    "            \"\"\")\n",
    "        except:\n",
    "            linhas_com_erro+=1\n",
    "    try:\n",
    "        print(f'Total de linhas: {len(df_completo)}')\n",
    "        print(f'Linhas com erros: {linhas_com_erro}')\n",
    "        if linhas_com_erro == 0:\n",
    "            print('COMMIT')\n",
    "            conexao.commit()\n",
    "        else:\n",
    "            print('ROLLBACK')\n",
    "            conexao.rollback()    \n",
    "    except:\n",
    "        conexao.rollback()\n",
    "        print('Erro no commit!')\n",
    "except:\n",
    "    conexao.rollback()\n",
    "    print('Erro na Carga')\n",
    "\n",
    "cursor.close()"
   ]
  },
  {
   "cell_type": "code",
   "execution_count": 9,
   "id": "22f7bfd7",
   "metadata": {},
   "outputs": [
    {
     "data": {
      "text/plain": [
       "'2022-03-16'"
      ]
     },
     "execution_count": 9,
     "metadata": {},
     "output_type": "execute_result"
    }
   ],
   "source": [
    "df_completo.dt_envio.unique()[0]"
   ]
  }
 ],
 "metadata": {
  "kernelspec": {
   "display_name": "Python 3",
   "language": "python",
   "name": "python3"
  },
  "language_info": {
   "codemirror_mode": {
    "name": "ipython",
    "version": 3
   },
   "file_extension": ".py",
   "mimetype": "text/x-python",
   "name": "python",
   "nbconvert_exporter": "python",
   "pygments_lexer": "ipython3",
   "version": "3.8.12"
  }
 },
 "nbformat": 4,
 "nbformat_minor": 5
}
